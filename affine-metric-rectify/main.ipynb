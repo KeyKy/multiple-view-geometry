{
 "cells": [
  {
   "cell_type": "code",
   "execution_count": 9,
   "metadata": {
    "collapsed": false
   },
   "outputs": [],
   "source": [
    "import cv2\n",
    "import matplotlib.image as mplimg\n",
    "import matplotlib.pyplot as plt\n",
    "import matplotlib\n",
    "import numpy as np\n",
    "\n",
    "from pylab import rcParams\n",
    "from pylab import plot, ginput, show, axis, imshow, draw\n",
    "rcParams['figure.figsize'] = (6,6)\n",
    "\n",
    "%matplotlib qt"
   ]
  },
  {
   "cell_type": "code",
   "execution_count": 25,
   "metadata": {
    "collapsed": false
   },
   "outputs": [],
   "source": [
    "imgPath = '/Users/kangyang/Downloads/image_rectification-master/images/floor.png'\n",
    "im = mplimg.imread(imgPath)\n",
    "plt.imshow(im)\n",
    "plt.show()"
   ]
  },
  {
   "cell_type": "code",
   "execution_count": 11,
   "metadata": {
    "collapsed": true
   },
   "outputs": [],
   "source": [
    "def replotAffine(im,limits,lines=[[],[]],x=[[],[]],y=[[],[]],vPts=[]):\n",
    "    # -- Settings for this function ---\n",
    "    plot_lines  = True\n",
    "    plot_vpts   = True\n",
    "    plot_points = True\n",
    "    plot_vline  = True\n",
    "    # ---------------------------------\n",
    "    if len(x) != len(y):\n",
    "        raise Exception(\"len(x): %d, len(y): %d!\" % (len(x), len(y)))\n",
    "    if len(lines) != len(x):\n",
    "        raise Exception(\"len(x): %d, len(lines): %d!\" % (len(x), len(lines)))\n",
    "    if len(vPts) != min(len(x[0]), len(x[1])):\n",
    "        raise Exception(\"len(x[0]): %d, len(x[1]): %d, len(vpts): %d!\" % (len(x[0]), len(x[1]), len(vPts)))\n",
    "\n",
    "    #plt.close() # ginput does not allow new points to be plotted\n",
    "    plt.imshow(im,cmap='gray')\n",
    "    plt.show()\n",
    "    plt.axis('image')\n",
    "    ax = plt.gca()\n",
    "    xmin, xmax = ax.get_xlim()\n",
    "    ymin, ymax = ax.get_ylim()\n",
    "\n",
    "    # Determine how many lines to plot in red, leaving the last in green if the second needs to be picked\n",
    "    nl1 = len(y[0])\n",
    "    nl2 = len(y[1])\n",
    "    if nl1 == nl2:\n",
    "        nred = nl1\n",
    "    else:\n",
    "        nred = nl1 - 1\n",
    "    # Plot extension of user-selected lines (dashed)\n",
    "    if plot_lines:\n",
    "        for k in range(nred):\n",
    "            xx,yy = getPlotBoundsLine(limits, lines[0][k])\n",
    "            plot(xx,yy,'r--')\n",
    "        if nl1 - nred > 0:\n",
    "            xx,yy = getPlotBoundsLine(limits, lines[0][nl1-1])\n",
    "            plot(xx,yy,'g--')\n",
    "        for l in lines[1]:\n",
    "            xx,yy = getPlotBoundsLine(limits, l)\n",
    "            plot(xx,yy,'b--')\n",
    "\n",
    "    # Plot user-selected line segments (solid)\n",
    "    if plot_points:\n",
    "        # Plot lines: direction 1, all red but the last one green\n",
    "        for k in range(0,nred):\n",
    "            plot(x[0][k],y[0][k],'r-')\n",
    "        if nl1 - nred > 0:\n",
    "            plot(x[0][nl1-1],y[0][nl1-1],'g-')\n",
    "        # Plot lines: direction 2\n",
    "        for k in range(0,len(y[1])):\n",
    "            plot(x[1][k],y[1][k],'b-')\n",
    "\n",
    "    # Compute normalized vanishing points for plotting\n",
    "    vPts_n = [[0,0] for x in vPts]\n",
    "    vPtInImage = [True for x in vPts]\n",
    "    for i in range(len(vPts)):\n",
    "        if vPts[i][2] == 0:\n",
    "            vPtInImage[i] = False\n",
    "        else:\n",
    "            vPts_n[i][0] = vPts[i][0] / vPts[i][2]\n",
    "            vPts_n[i][1] = vPts[i][1] / vPts[i][2]\n",
    "            vPtInImage[i] = vPts_n[i][0] < limits[0] and vPts_n[i][0] > 0 and vPts_n[i][1] < limits[1] and vPts_n[i][1] > 0\n",
    "\n",
    "    # Plot vanishing points \n",
    "    if plot_vpts:\n",
    "        for i in range(len(vPts_n)):\n",
    "            if vPtInImage[i]:\n",
    "                plot(vPts_n[i][0], vPts_n[i][1], 'yo')\n",
    "    # Plot vanishing line\n",
    "    if plot_vline:\n",
    "        if len(vPts) == 2 and vPtInImage[0] and vPtInImage[1]:\n",
    "            vLine = np.linalg.cross(vPts[0], vPts[1])\n",
    "            xx,yy = getPlotBoundsLine(limits, vLine)\n",
    "            plot(xx,yy,'y-')\n",
    "            #plot([vPts_n[0][0],vPts_n[1][0]], [vPts_n[0][1],vPts_n[1][1]], 'y-')\n",
    "\n",
    "    # Limit axes to the image\n",
    "    plt.xlim([xmin,xmax])\n",
    "    plt.ylim([ymin,ymax])\n",
    "    "
   ]
  },
  {
   "cell_type": "code",
   "execution_count": 12,
   "metadata": {
    "collapsed": false,
    "scrolled": false
   },
   "outputs": [],
   "source": [
    "fig2 = plt.figure()\n",
    "replotAffine(im, im.shape)"
   ]
  },
  {
   "cell_type": "code",
   "execution_count": 13,
   "metadata": {
    "collapsed": true
   },
   "outputs": [],
   "source": [
    "def getLine():\n",
    "    # get mouse clicks\n",
    "    pts = []\n",
    "    while len(pts) == 0: # FIXME\n",
    "        pts = ginput(n=2)\n",
    "    pts_h = [[x[0],x[1],1] for x in pts]\n",
    "    line = np.cross(pts_h[0], pts_h[1]) # line is [p0 p1 1] x [q0 q1 1]\n",
    "    # return points that were clicked on for plotting\n",
    "    x1=map(lambda x: x[0],pts) # map applies the function passed as \n",
    "    y1=map(lambda x: x[1],pts) # first parameter to each element of pts\n",
    "    return x1,y1,line"
   ]
  },
  {
   "cell_type": "code",
   "execution_count": 14,
   "metadata": {
    "collapsed": false
   },
   "outputs": [
    {
     "name": "stdout",
     "output_type": "stream",
     "text": [
      "[  -156.29032258    185.90322581 -19002.56815817]\n",
      "[  -103.64516129    204.          18568.90894901]\n",
      "[    90.48387097    241.83870968 -40858.21748179]\n",
      "[    141.48387097     258.29032258 -112528.31581686]\n"
     ]
    }
   ],
   "source": [
    "lines = [[],[]]\n",
    "x = [[],[]]\n",
    "y = [[],[]]\n",
    "vPts = []\n",
    "nLinePairs = 2\n",
    "\n",
    "# Get line pairs interactively\n",
    "for i in range(0,2*nLinePairs):\n",
    "    ii = i % 2\n",
    "    if ii == 1:\n",
    "        plt.suptitle('Click two points intersecting a line parallel to the green line')\n",
    "    else:\n",
    "        if i == 0:\n",
    "            plt.suptitle('Click two points intersecting the first of two parallel lines')\n",
    "        else:\n",
    "            plt.suptitle('Click two points intersecting the first of two parallel lines not parallel to the first set')\n",
    "    x1,y1,line = getLine()\n",
    "    print line\n",
    "    x[ii].append(x1)\n",
    "    y[ii].append(y1)\n",
    "    lines[ii].append(line)\n",
    "    if ii == 1:\n",
    "        nlp = len(lines[0])\n",
    "        vPt = np.cross(lines[0][nlp-1], lines[1][nlp-1])\n",
    "        if vPt[2] != 0.:\n",
    "            vPt[0] = vPt[0] / vPt[2]\n",
    "            vPt[1] = vPt[1] / vPt[2]\n",
    "            vPt[2] = vPt[2] / vPt[2]\n",
    "        vPts.append(vPt)"
   ]
  },
  {
   "cell_type": "code",
   "execution_count": 17,
   "metadata": {
    "collapsed": false
   },
   "outputs": [],
   "source": [
    "def getPlotBoundsLine(size, l):\n",
    "    l = l.flatten(1)\n",
    "    L = 0\n",
    "    R = 1\n",
    "    T = 2\n",
    "    B = 3\n",
    "    Nx = size[1]\n",
    "    Ny = size[0]\n",
    "    # lines intersecting image edges\n",
    "    lbd = [[] for x in range(4)]\n",
    "    lbd[L] = np.array([1.0, 0.0, 0.0])\n",
    "    lbd[R] = np.array([1.0, 0.0, -float(Nx)])\n",
    "    lbd[T] = np.array([0.0, 1.0, 0.0])\n",
    "    lbd[B] = np.array([0.0, 1.0, -float(Ny)])\n",
    "    I = [np.cross(l, l2) for l2 in lbd]\n",
    "\n",
    "    # return T/F if intersection point I is in the bounds of the image\n",
    "    Ied = [] # List of (x,y) where (x,y) is an intersection of the line with the boundary\n",
    "    for i in [L, R]:\n",
    "        if I[i][2] != 0:\n",
    "            In1 = I[i][1] / I[i][2]\n",
    "            if In1 > 0 and In1 < Ny:\n",
    "                Ied.append(I[i][0:2]/I[i][2])\n",
    "\n",
    "    for i in [T, B]:\n",
    "        if I[i][2] != 0:\n",
    "            In0 = I[i][0] / I[i][2]\n",
    "            if In0 > 0 and In0 < Nx:\n",
    "                Ied.append(I[i][0:2]/I[i][2])\n",
    "\n",
    "    assert(len(Ied) == 2 or len(Ied) == 0)\n",
    "    xx = [Ied[x][0] for x in range(0,len(Ied))]\n",
    "    yy = [Ied[x][1] for x in range(0,len(Ied))]\n",
    "\n",
    "    return xx,yy\n"
   ]
  },
  {
   "cell_type": "code",
   "execution_count": 18,
   "metadata": {
    "collapsed": false
   },
   "outputs": [
    {
     "name": "stderr",
     "output_type": "stream",
     "text": [
      "/anaconda/lib/python2.7/site-packages/ipykernel/__main__.py:2: DeprecationWarning: Non-string object detected for the array ordering. Please pass in 'C', 'F', 'A', or 'K' instead\n",
      "  from ipykernel import kernelapp as app\n"
     ]
    }
   ],
   "source": [
    "replotAffine(im,im.shape,lines,x,y,vPts)"
   ]
  },
  {
   "cell_type": "code",
   "execution_count": 20,
   "metadata": {
    "collapsed": false
   },
   "outputs": [
    {
     "name": "stdout",
     "output_type": "stream",
     "text": [
      "Vanishing points:\n",
      "[-580.92709234 -386.17250555    1.        ]\n",
      "[  1.53620669e+03  -4.05822999e+02   1.00000000e+00]\n",
      "Vanishing line:\n",
      "[  1.96504937e+01   2.11713378e+03   8.28994362e+05]\n",
      "H:\n",
      "[[  1.00000000e+00   0.00000000e+00   0.00000000e+00]\n",
      " [  0.00000000e+00   1.00000000e+00   0.00000000e+00]\n",
      " [  2.37040137e-05   2.55385788e-03   1.00000000e+00]]\n"
     ]
    }
   ],
   "source": [
    "print(\"Vanishing points:\")\n",
    "print(vPts[0])\n",
    "print(vPts[1])\n",
    "vLine = np.cross(vPts[0], vPts[1])\n",
    "print(\"Vanishing line:\")\n",
    "print(vLine)\n",
    "H = np.identity(3)\n",
    "H[2,0] = vLine[0] / vLine[2]\n",
    "H[2,1] = vLine[1] / vLine[2]\n",
    "\n",
    "print(\"H:\")\n",
    "print(H)"
   ]
  },
  {
   "cell_type": "code",
   "execution_count": 21,
   "metadata": {
    "collapsed": true
   },
   "outputs": [],
   "source": [
    "def myApplyH(im, H):\n",
    "    return cv2.warpPerspective(im, H, (im.shape[1], im.shape[0]))"
   ]
  },
  {
   "cell_type": "code",
   "execution_count": 22,
   "metadata": {
    "collapsed": true
   },
   "outputs": [],
   "source": [
    "imRect = myApplyH(im, H)"
   ]
  },
  {
   "cell_type": "code",
   "execution_count": 26,
   "metadata": {
    "collapsed": true
   },
   "outputs": [],
   "source": [
    "plt.figure()\n",
    "plt.imshow(imRect)\n",
    "plt.show()"
   ]
  },
  {
   "cell_type": "code",
   "execution_count": null,
   "metadata": {
    "collapsed": true
   },
   "outputs": [],
   "source": []
  }
 ],
 "metadata": {
  "kernelspec": {
   "display_name": "Python 2",
   "language": "python",
   "name": "python2"
  },
  "language_info": {
   "codemirror_mode": {
    "name": "ipython",
    "version": 2
   },
   "file_extension": ".py",
   "mimetype": "text/x-python",
   "name": "python",
   "nbconvert_exporter": "python",
   "pygments_lexer": "ipython2",
   "version": "2.7.11"
  }
 },
 "nbformat": 4,
 "nbformat_minor": 0
}
